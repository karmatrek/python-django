{
 "cells": [
  {
   "cell_type": "code",
   "execution_count": 2,
   "metadata": {},
   "outputs": [
    {
     "name": "stdout",
     "output_type": "stream",
     "text": [
      "24.984601531008007\n",
      "23.460792655004074\n",
      "24.254395225489343\n",
      "23.67718337604452\n",
      "26.31235232154649\n",
      "23.361434137508727\n",
      "25.298950928850154\n",
      "26.902000046937946\n"
     ]
    }
   ],
   "source": [
    "height = [76.77,  70.86,  72.83,  70.07,  75.98,  70.07,  70.01, 70.8]\n",
    "weight = [209.439, 167.551, 182.984, 165.347, 216.053, 163.142, 176.37, 191.802]\n",
    "\n",
    "m_height = [x * 0.0254 for x in height]\n",
    "k_weight = [x * 0.453592 for x in weight]\n",
    "\n",
    "#print (m_height)\n",
    "#print (k_weight)\n",
    "\n",
    "# kg/m^2\n",
    " \n",
    "msqr_height = [x * x for x in m_height]\n",
    "#print (msqr_height)\n",
    "\n",
    "bmi  = [k_weight[i]/msqr_height[i] for i in range(len(msqr_height))]\n",
    "\n",
    "for e in bmi:\n",
    "   print (e)\n",
    "\n",
    "\n"
   ]
  }
 ],
 "metadata": {
  "kernelspec": {
   "display_name": "Python 3",
   "language": "python",
   "name": "python3"
  },
  "language_info": {
   "codemirror_mode": {
    "name": "ipython",
    "version": 3
   },
   "file_extension": ".py",
   "mimetype": "text/x-python",
   "name": "python",
   "nbconvert_exporter": "python",
   "pygments_lexer": "ipython3",
   "version": "3.6.1"
  }
 },
 "nbformat": 4,
 "nbformat_minor": 2
}
