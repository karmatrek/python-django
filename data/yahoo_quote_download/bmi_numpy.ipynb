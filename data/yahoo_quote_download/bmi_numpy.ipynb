{
 "cells": [
  {
   "cell_type": "code",
   "execution_count": 1,
   "metadata": {},
   "outputs": [
    {
     "name": "stdout",
     "output_type": "stream",
     "text": [
      "[ 24.98460153  23.46079266  24.25439523  23.67718338  26.31235232\n",
      "  23.36143414  25.29895093  26.90200005]\n"
     ]
    }
   ],
   "source": [
    "import numpy as np\n",
    "\n",
    "# height in inches, weight in pounds  \n",
    "height = [76.77,  70.86,  72.83,  70.07,  75.98,  70.07,  70.01, 70.8]\n",
    "weight = [209.439, 167.551, 182.984, 165.347, 216.053, 163.142, 176.37, 191.802]\n",
    "\n",
    "np_height = np.array(height)\n",
    "np_weight = np.array(weight)\n",
    "\n",
    "\n",
    "np_height_meters  = np_height  * 0.0254\n",
    "np_weight_kgs = np_weight *  0.453592 \n",
    "\n",
    "#print (m_height)\n",
    "#print (k_weight)\n",
    "\n",
    "# kg/m^2\n",
    " \n",
    "np_height_meters_sqr  = np_height_meters ** 2\n",
    "#print (msqr_height)\n",
    "\n",
    "bmi = np_weight_kgs / np_height_meters_sqr \n",
    "\n",
    "print (bmi)\n"
   ]
  }
 ],
 "metadata": {
  "kernelspec": {
   "display_name": "Python 3",
   "language": "python",
   "name": "python3"
  },
  "language_info": {
   "codemirror_mode": {
    "name": "ipython",
    "version": 3
   },
   "file_extension": ".py",
   "mimetype": "text/x-python",
   "name": "python",
   "nbconvert_exporter": "python",
   "pygments_lexer": "ipython3",
   "version": "3.6.1"
  }
 },
 "nbformat": 4,
 "nbformat_minor": 2
}
